{
 "cells": [
  {
   "cell_type": "code",
   "execution_count": 1,
   "metadata": {
    "scrolled": true
   },
   "outputs": [
    {
     "name": "stdout",
     "output_type": "stream",
     "text": [
      "Requirement already satisfied: tensorflow in c:\\users\\acer\\anaconda3\\lib\\site-packages (2.5.0)Note: you may need to restart the kernel to use updated packages.\n",
      "\n",
      "Requirement already satisfied: astunparse~=1.6.3 in c:\\users\\acer\\anaconda3\\lib\\site-packages (from tensorflow) (1.6.3)\n",
      "Requirement already satisfied: tensorboard~=2.5 in c:\\users\\acer\\anaconda3\\lib\\site-packages (from tensorflow) (2.6.0)\n",
      "Requirement already satisfied: keras-nightly~=2.5.0.dev in c:\\users\\acer\\anaconda3\\lib\\site-packages (from tensorflow) (2.5.0.dev2021032900)\n",
      "Requirement already satisfied: termcolor~=1.1.0 in c:\\users\\acer\\anaconda3\\lib\\site-packages (from tensorflow) (1.1.0)\n",
      "Requirement already satisfied: typing-extensions~=3.7.4 in c:\\users\\acer\\anaconda3\\lib\\site-packages (from tensorflow) (3.7.4.3)\n",
      "Requirement already satisfied: grpcio~=1.34.0 in c:\\users\\acer\\anaconda3\\lib\\site-packages (from tensorflow) (1.34.1)\n",
      "Requirement already satisfied: gast==0.4.0 in c:\\users\\acer\\anaconda3\\lib\\site-packages (from tensorflow) (0.4.0)\n",
      "Requirement already satisfied: wheel~=0.35 in c:\\users\\acer\\anaconda3\\lib\\site-packages (from tensorflow) (0.35.1)\n",
      "Requirement already satisfied: tensorflow-estimator<2.6.0,>=2.5.0rc0 in c:\\users\\acer\\anaconda3\\lib\\site-packages (from tensorflow) (2.5.0)\n",
      "Requirement already satisfied: six~=1.15.0 in c:\\users\\acer\\anaconda3\\lib\\site-packages (from tensorflow) (1.15.0)\n",
      "Requirement already satisfied: numpy~=1.19.2 in c:\\users\\acer\\anaconda3\\lib\\site-packages (from tensorflow) (1.19.2)\n",
      "Requirement already satisfied: keras-preprocessing~=1.1.2 in c:\\users\\acer\\anaconda3\\lib\\site-packages (from tensorflow) (1.1.2)\n",
      "Requirement already satisfied: google-pasta~=0.2 in c:\\users\\acer\\anaconda3\\lib\\site-packages (from tensorflow) (0.2.0)\n",
      "Requirement already satisfied: absl-py~=0.10 in c:\\users\\acer\\anaconda3\\lib\\site-packages (from tensorflow) (0.13.0)\n",
      "Requirement already satisfied: protobuf>=3.9.2 in c:\\users\\acer\\anaconda3\\lib\\site-packages (from tensorflow) (3.17.3)\n",
      "Requirement already satisfied: h5py~=3.1.0 in c:\\users\\acer\\anaconda3\\lib\\site-packages (from tensorflow) (3.1.0)\n",
      "Requirement already satisfied: flatbuffers~=1.12.0 in c:\\users\\acer\\anaconda3\\lib\\site-packages (from tensorflow) (1.12)\n",
      "Requirement already satisfied: wrapt~=1.12.1 in c:\\users\\acer\\anaconda3\\lib\\site-packages (from tensorflow) (1.12.1)\n",
      "Requirement already satisfied: opt-einsum~=3.3.0 in c:\\users\\acer\\anaconda3\\lib\\site-packages (from tensorflow) (3.3.0)\n",
      "Requirement already satisfied: setuptools>=41.0.0 in c:\\users\\acer\\anaconda3\\lib\\site-packages (from tensorboard~=2.5->tensorflow) (50.3.1.post20201107)\n",
      "Requirement already satisfied: tensorboard-plugin-wit>=1.6.0 in c:\\users\\acer\\anaconda3\\lib\\site-packages (from tensorboard~=2.5->tensorflow) (1.8.0)\n",
      "Requirement already satisfied: requests<3,>=2.21.0 in c:\\users\\acer\\anaconda3\\lib\\site-packages (from tensorboard~=2.5->tensorflow) (2.24.0)\n",
      "Requirement already satisfied: tensorboard-data-server<0.7.0,>=0.6.0 in c:\\users\\acer\\anaconda3\\lib\\site-packages (from tensorboard~=2.5->tensorflow) (0.6.1)\n",
      "Requirement already satisfied: google-auth<2,>=1.6.3 in c:\\users\\acer\\anaconda3\\lib\\site-packages (from tensorboard~=2.5->tensorflow) (1.34.0)\n",
      "Requirement already satisfied: werkzeug>=0.11.15 in c:\\users\\acer\\anaconda3\\lib\\site-packages (from tensorboard~=2.5->tensorflow) (1.0.1)\n",
      "Requirement already satisfied: markdown>=2.6.8 in c:\\users\\acer\\anaconda3\\lib\\site-packages (from tensorboard~=2.5->tensorflow) (3.3.4)\n",
      "Requirement already satisfied: google-auth-oauthlib<0.5,>=0.4.1 in c:\\users\\acer\\anaconda3\\lib\\site-packages (from tensorboard~=2.5->tensorflow) (0.4.5)\n",
      "Requirement already satisfied: idna<3,>=2.5 in c:\\users\\acer\\anaconda3\\lib\\site-packages (from requests<3,>=2.21.0->tensorboard~=2.5->tensorflow) (2.10)\n",
      "Requirement already satisfied: certifi>=2017.4.17 in c:\\users\\acer\\anaconda3\\lib\\site-packages (from requests<3,>=2.21.0->tensorboard~=2.5->tensorflow) (2020.6.20)\n",
      "Requirement already satisfied: urllib3!=1.25.0,!=1.25.1,<1.26,>=1.21.1 in c:\\users\\acer\\anaconda3\\lib\\site-packages (from requests<3,>=2.21.0->tensorboard~=2.5->tensorflow) (1.25.11)\n",
      "Requirement already satisfied: chardet<4,>=3.0.2 in c:\\users\\acer\\anaconda3\\lib\\site-packages (from requests<3,>=2.21.0->tensorboard~=2.5->tensorflow) (3.0.4)\n",
      "Requirement already satisfied: pyasn1-modules>=0.2.1 in c:\\users\\acer\\anaconda3\\lib\\site-packages (from google-auth<2,>=1.6.3->tensorboard~=2.5->tensorflow) (0.2.8)\n",
      "Requirement already satisfied: rsa<5,>=3.1.4; python_version >= \"3.6\" in c:\\users\\acer\\anaconda3\\lib\\site-packages (from google-auth<2,>=1.6.3->tensorboard~=2.5->tensorflow) (4.7.2)\n",
      "Requirement already satisfied: cachetools<5.0,>=2.0.0 in c:\\users\\acer\\anaconda3\\lib\\site-packages (from google-auth<2,>=1.6.3->tensorboard~=2.5->tensorflow) (4.2.2)\n",
      "Requirement already satisfied: requests-oauthlib>=0.7.0 in c:\\users\\acer\\anaconda3\\lib\\site-packages (from google-auth-oauthlib<0.5,>=0.4.1->tensorboard~=2.5->tensorflow) (1.3.0)\n",
      "Requirement already satisfied: pyasn1<0.5.0,>=0.4.6 in c:\\users\\acer\\anaconda3\\lib\\site-packages (from pyasn1-modules>=0.2.1->google-auth<2,>=1.6.3->tensorboard~=2.5->tensorflow) (0.4.8)\n",
      "Requirement already satisfied: oauthlib>=3.0.0 in c:\\users\\acer\\anaconda3\\lib\\site-packages (from requests-oauthlib>=0.7.0->google-auth-oauthlib<0.5,>=0.4.1->tensorboard~=2.5->tensorflow) (3.1.1)\n"
     ]
    }
   ],
   "source": [
    "pip install tensorflow\n"
   ]
  },
  {
   "cell_type": "code",
   "execution_count": 2,
   "metadata": {},
   "outputs": [],
   "source": [
    "from tensorflow.keras.layers import Input, Lambda, Dense, Flatten,Conv2D\n",
    "from tensorflow.keras.models import Model\n",
    "from tensorflow.keras.applications.vgg19 import VGG19\n",
    "from tensorflow.keras.applications.resnet50 import preprocess_input\n",
    "from tensorflow.keras.preprocessing import image\n",
    "from tensorflow.keras.preprocessing.image import ImageDataGenerator,load_img\n",
    "from tensorflow.keras.models import Sequential\n",
    "import numpy as np\n",
    "from glob import glob\n",
    "import matplotlib.pyplot as plt"
   ]
  },
  {
   "cell_type": "code",
   "execution_count": 3,
   "metadata": {},
   "outputs": [
    {
     "name": "stdout",
     "output_type": "stream",
     "text": [
      "2.5.0\n"
     ]
    }
   ],
   "source": [
    "import tensorflow as tf\n",
    "print(tf.__version__)"
   ]
  },
  {
   "cell_type": "code",
   "execution_count": 4,
   "metadata": {},
   "outputs": [],
   "source": [
    "# re-size all the images to this\n",
    "IMAGE_SIZE = [224, 224]\n",
    "\n",
    "train_path = 'Desktop/data/train'\n",
    "valid_path = 'Desktop/data/test'"
   ]
  },
  {
   "cell_type": "code",
   "execution_count": 5,
   "metadata": {},
   "outputs": [],
   "source": [
    "# Import the Vgg 16 library as shown below and add preprocessing layer to the front of VGG\n",
    "# Here we will be using imagenet weights\n",
    "\n",
    "mobilnet = VGG19(input_shape=IMAGE_SIZE + [3], weights='imagenet', include_top=False)"
   ]
  },
  {
   "cell_type": "code",
   "execution_count": 6,
   "metadata": {},
   "outputs": [
    {
     "name": "stdout",
     "output_type": "stream",
     "text": [
      "Model: \"vgg19\"\n",
      "_________________________________________________________________\n",
      "Layer (type)                 Output Shape              Param #   \n",
      "=================================================================\n",
      "input_1 (InputLayer)         [(None, 224, 224, 3)]     0         \n",
      "_________________________________________________________________\n",
      "block1_conv1 (Conv2D)        (None, 224, 224, 64)      1792      \n",
      "_________________________________________________________________\n",
      "block1_conv2 (Conv2D)        (None, 224, 224, 64)      36928     \n",
      "_________________________________________________________________\n",
      "block1_pool (MaxPooling2D)   (None, 112, 112, 64)      0         \n",
      "_________________________________________________________________\n",
      "block2_conv1 (Conv2D)        (None, 112, 112, 128)     73856     \n",
      "_________________________________________________________________\n",
      "block2_conv2 (Conv2D)        (None, 112, 112, 128)     147584    \n",
      "_________________________________________________________________\n",
      "block2_pool (MaxPooling2D)   (None, 56, 56, 128)       0         \n",
      "_________________________________________________________________\n",
      "block3_conv1 (Conv2D)        (None, 56, 56, 256)       295168    \n",
      "_________________________________________________________________\n",
      "block3_conv2 (Conv2D)        (None, 56, 56, 256)       590080    \n",
      "_________________________________________________________________\n",
      "block3_conv3 (Conv2D)        (None, 56, 56, 256)       590080    \n",
      "_________________________________________________________________\n",
      "block3_conv4 (Conv2D)        (None, 56, 56, 256)       590080    \n",
      "_________________________________________________________________\n",
      "block3_pool (MaxPooling2D)   (None, 28, 28, 256)       0         \n",
      "_________________________________________________________________\n",
      "block4_conv1 (Conv2D)        (None, 28, 28, 512)       1180160   \n",
      "_________________________________________________________________\n",
      "block4_conv2 (Conv2D)        (None, 28, 28, 512)       2359808   \n",
      "_________________________________________________________________\n",
      "block4_conv3 (Conv2D)        (None, 28, 28, 512)       2359808   \n",
      "_________________________________________________________________\n",
      "block4_conv4 (Conv2D)        (None, 28, 28, 512)       2359808   \n",
      "_________________________________________________________________\n",
      "block4_pool (MaxPooling2D)   (None, 14, 14, 512)       0         \n",
      "_________________________________________________________________\n",
      "block5_conv1 (Conv2D)        (None, 14, 14, 512)       2359808   \n",
      "_________________________________________________________________\n",
      "block5_conv2 (Conv2D)        (None, 14, 14, 512)       2359808   \n",
      "_________________________________________________________________\n",
      "block5_conv3 (Conv2D)        (None, 14, 14, 512)       2359808   \n",
      "_________________________________________________________________\n",
      "block5_conv4 (Conv2D)        (None, 14, 14, 512)       2359808   \n",
      "_________________________________________________________________\n",
      "block5_pool (MaxPooling2D)   (None, 7, 7, 512)         0         \n",
      "=================================================================\n",
      "Total params: 20,024,384\n",
      "Trainable params: 20,024,384\n",
      "Non-trainable params: 0\n",
      "_________________________________________________________________\n"
     ]
    }
   ],
   "source": [
    "mobilnet.summary()"
   ]
  },
  {
   "cell_type": "code",
   "execution_count": 7,
   "metadata": {},
   "outputs": [],
   "source": [
    "# don't train existing weights\n",
    "for layer in mobilnet.layers:\n",
    "    layer.trainable = False"
   ]
  },
  {
   "cell_type": "code",
   "execution_count": 10,
   "metadata": {},
   "outputs": [],
   "source": [
    "# useful for getting number of output classes\n",
    "folders = glob('Desktop/data/train/*')"
   ]
  },
  {
   "cell_type": "code",
   "execution_count": 11,
   "metadata": {},
   "outputs": [
    {
     "data": {
      "text/plain": [
       "['Desktop/data/train\\\\Parasite', 'Desktop/data/train\\\\Uninfected']"
      ]
     },
     "execution_count": 11,
     "metadata": {},
     "output_type": "execute_result"
    }
   ],
   "source": [
    "folders"
   ]
  },
  {
   "cell_type": "code",
   "execution_count": 12,
   "metadata": {},
   "outputs": [],
   "source": [
    "\n",
    "# our layers - you can add more if you want\n",
    "x = Flatten()(mobilnet.output)"
   ]
  },
  {
   "cell_type": "code",
   "execution_count": 13,
   "metadata": {},
   "outputs": [],
   "source": [
    "prediction = Dense(len(folders), activation='softmax')(x)\n",
    "\n",
    "# create a model object\n",
    "model = Model(inputs=mobilnet.input, outputs=prediction)"
   ]
  },
  {
   "cell_type": "code",
   "execution_count": 14,
   "metadata": {},
   "outputs": [
    {
     "name": "stdout",
     "output_type": "stream",
     "text": [
      "Model: \"model\"\n",
      "_________________________________________________________________\n",
      "Layer (type)                 Output Shape              Param #   \n",
      "=================================================================\n",
      "input_1 (InputLayer)         [(None, 224, 224, 3)]     0         \n",
      "_________________________________________________________________\n",
      "block1_conv1 (Conv2D)        (None, 224, 224, 64)      1792      \n",
      "_________________________________________________________________\n",
      "block1_conv2 (Conv2D)        (None, 224, 224, 64)      36928     \n",
      "_________________________________________________________________\n",
      "block1_pool (MaxPooling2D)   (None, 112, 112, 64)      0         \n",
      "_________________________________________________________________\n",
      "block2_conv1 (Conv2D)        (None, 112, 112, 128)     73856     \n",
      "_________________________________________________________________\n",
      "block2_conv2 (Conv2D)        (None, 112, 112, 128)     147584    \n",
      "_________________________________________________________________\n",
      "block2_pool (MaxPooling2D)   (None, 56, 56, 128)       0         \n",
      "_________________________________________________________________\n",
      "block3_conv1 (Conv2D)        (None, 56, 56, 256)       295168    \n",
      "_________________________________________________________________\n",
      "block3_conv2 (Conv2D)        (None, 56, 56, 256)       590080    \n",
      "_________________________________________________________________\n",
      "block3_conv3 (Conv2D)        (None, 56, 56, 256)       590080    \n",
      "_________________________________________________________________\n",
      "block3_conv4 (Conv2D)        (None, 56, 56, 256)       590080    \n",
      "_________________________________________________________________\n",
      "block3_pool (MaxPooling2D)   (None, 28, 28, 256)       0         \n",
      "_________________________________________________________________\n",
      "block4_conv1 (Conv2D)        (None, 28, 28, 512)       1180160   \n",
      "_________________________________________________________________\n",
      "block4_conv2 (Conv2D)        (None, 28, 28, 512)       2359808   \n",
      "_________________________________________________________________\n",
      "block4_conv3 (Conv2D)        (None, 28, 28, 512)       2359808   \n",
      "_________________________________________________________________\n",
      "block4_conv4 (Conv2D)        (None, 28, 28, 512)       2359808   \n",
      "_________________________________________________________________\n",
      "block4_pool (MaxPooling2D)   (None, 14, 14, 512)       0         \n",
      "_________________________________________________________________\n",
      "block5_conv1 (Conv2D)        (None, 14, 14, 512)       2359808   \n",
      "_________________________________________________________________\n",
      "block5_conv2 (Conv2D)        (None, 14, 14, 512)       2359808   \n",
      "_________________________________________________________________\n",
      "block5_conv3 (Conv2D)        (None, 14, 14, 512)       2359808   \n",
      "_________________________________________________________________\n",
      "block5_conv4 (Conv2D)        (None, 14, 14, 512)       2359808   \n",
      "_________________________________________________________________\n",
      "block5_pool (MaxPooling2D)   (None, 7, 7, 512)         0         \n",
      "_________________________________________________________________\n",
      "flatten (Flatten)            (None, 25088)             0         \n",
      "_________________________________________________________________\n",
      "dense (Dense)                (None, 2)                 50178     \n",
      "=================================================================\n",
      "Total params: 20,074,562\n",
      "Trainable params: 50,178\n",
      "Non-trainable params: 20,024,384\n",
      "_________________________________________________________________\n"
     ]
    }
   ],
   "source": [
    "# view the structure of the model\n",
    "model.summary()"
   ]
  },
  {
   "cell_type": "code",
   "execution_count": 15,
   "metadata": {},
   "outputs": [],
   "source": [
    "from tensorflow.keras.layers import MaxPooling2D\n"
   ]
  },
  {
   "cell_type": "code",
   "execution_count": 16,
   "metadata": {},
   "outputs": [
    {
     "name": "stdout",
     "output_type": "stream",
     "text": [
      "Model: \"sequential\"\n",
      "_________________________________________________________________\n",
      "Layer (type)                 Output Shape              Param #   \n",
      "=================================================================\n",
      "conv2d (Conv2D)              (None, 224, 224, 16)      208       \n",
      "_________________________________________________________________\n",
      "max_pooling2d (MaxPooling2D) (None, 112, 112, 16)      0         \n",
      "_________________________________________________________________\n",
      "conv2d_1 (Conv2D)            (None, 112, 112, 32)      2080      \n",
      "_________________________________________________________________\n",
      "max_pooling2d_1 (MaxPooling2 (None, 56, 56, 32)        0         \n",
      "_________________________________________________________________\n",
      "conv2d_2 (Conv2D)            (None, 56, 56, 64)        8256      \n",
      "_________________________________________________________________\n",
      "max_pooling2d_2 (MaxPooling2 (None, 28, 28, 64)        0         \n",
      "_________________________________________________________________\n",
      "flatten_1 (Flatten)          (None, 50176)             0         \n",
      "_________________________________________________________________\n",
      "dense_1 (Dense)              (None, 500)               25088500  \n",
      "_________________________________________________________________\n",
      "dense_2 (Dense)              (None, 2)                 1002      \n",
      "=================================================================\n",
      "Total params: 25,100,046\n",
      "Trainable params: 25,100,046\n",
      "Non-trainable params: 0\n",
      "_________________________________________________________________\n"
     ]
    }
   ],
   "source": [
    "### Create Model from scratch using CNN\n",
    "model=Sequential()\n",
    "model.add(Conv2D(filters=16,kernel_size=2,padding=\"same\",activation=\"relu\",input_shape=(224,224,3)))\n",
    "model.add(MaxPooling2D(pool_size=2))\n",
    "model.add(Conv2D(filters=32,kernel_size=2,padding=\"same\",activation =\"relu\"))\n",
    "model.add(MaxPooling2D(pool_size=2))\n",
    "model.add(Conv2D(filters=64,kernel_size=2,padding=\"same\",activation=\"relu\"))\n",
    "model.add(MaxPooling2D(pool_size=2))\n",
    "model.add(Flatten())\n",
    "model.add(Dense(500,activation=\"relu\"))\n",
    "model.add(Dense(2,activation=\"softmax\"))\n",
    "model.summary()"
   ]
  },
  {
   "cell_type": "code",
   "execution_count": 17,
   "metadata": {},
   "outputs": [],
   "source": [
    "# tell the model what cost and optimization method to use\n",
    "model.compile(\n",
    "  loss='categorical_crossentropy',\n",
    "  optimizer='adam',\n",
    "  metrics=['accuracy']\n",
    ")"
   ]
  },
  {
   "cell_type": "code",
   "execution_count": 18,
   "metadata": {},
   "outputs": [],
   "source": [
    "# Use the Image Data Generator to import the images from the dataset\n",
    "from tensorflow.keras.preprocessing.image import ImageDataGenerator\n",
    "\n",
    "train_datagen = ImageDataGenerator(rescale = 1./255,\n",
    "                                   shear_range = 0.2,\n",
    "                                   zoom_range = 0.2,\n",
    "                                   horizontal_flip = True)\n",
    "\n",
    "test_datagen = ImageDataGenerator(rescale = 1./255)"
   ]
  },
  {
   "cell_type": "code",
   "execution_count": 20,
   "metadata": {},
   "outputs": [
    {
     "name": "stdout",
     "output_type": "stream",
     "text": [
      "Found 416 images belonging to 2 classes.\n"
     ]
    }
   ],
   "source": [
    "# Make sure you provide the same target size as initialied for the image size\n",
    "training_set = train_datagen.flow_from_directory('Desktop/data/train',\n",
    "                                                 target_size = (224, 224),\n",
    "                                                 batch_size = 32,\n",
    "                                                 class_mode = 'categorical')"
   ]
  },
  {
   "cell_type": "code",
   "execution_count": 21,
   "metadata": {},
   "outputs": [
    {
     "data": {
      "text/plain": [
       "<tensorflow.python.keras.preprocessing.image.DirectoryIterator at 0x1e5f698a8e0>"
      ]
     },
     "execution_count": 21,
     "metadata": {},
     "output_type": "execute_result"
    }
   ],
   "source": [
    "training_set"
   ]
  },
  {
   "cell_type": "code",
   "execution_count": 23,
   "metadata": {},
   "outputs": [
    {
     "name": "stdout",
     "output_type": "stream",
     "text": [
      "Found 134 images belonging to 2 classes.\n"
     ]
    }
   ],
   "source": [
    "test_set = test_datagen.flow_from_directory('Desktop/data/test',\n",
    "                                            target_size = (224, 224),\n",
    "                                            batch_size = 32,\n",
    "                                            class_mode = 'categorical')"
   ]
  },
  {
   "cell_type": "code",
   "execution_count": 26,
   "metadata": {
    "scrolled": false
   },
   "outputs": [
    {
     "name": "stderr",
     "output_type": "stream",
     "text": [
      "C:\\Users\\Acer\\anaconda3\\lib\\site-packages\\tensorflow\\python\\keras\\engine\\training.py:1940: UserWarning: `Model.fit_generator` is deprecated and will be removed in a future version. Please use `Model.fit`, which supports generators.\n",
      "  warnings.warn('`Model.fit_generator` is deprecated and '\n"
     ]
    },
    {
     "name": "stdout",
     "output_type": "stream",
     "text": [
      "Epoch 1/50\n",
      "13/13 [==============================] - 36s 3s/step - loss: 1.9089 - accuracy: 0.5312 - val_loss: 1.3967 - val_accuracy: 0.3433\n",
      "Epoch 2/50\n",
      "13/13 [==============================] - 31s 2s/step - loss: 0.5774 - accuracy: 0.6875 - val_loss: 0.9422 - val_accuracy: 0.3657\n",
      "Epoch 3/50\n",
      "13/13 [==============================] - 24s 2s/step - loss: 0.5456 - accuracy: 0.6995 - val_loss: 1.0013 - val_accuracy: 0.3657\n",
      "Epoch 4/50\n",
      "13/13 [==============================] - 22s 2s/step - loss: 0.5434 - accuracy: 0.7139 - val_loss: 0.9010 - val_accuracy: 0.3507\n",
      "Epoch 5/50\n",
      "13/13 [==============================] - 23s 2s/step - loss: 0.4963 - accuracy: 0.7476 - val_loss: 0.9315 - val_accuracy: 0.3582\n",
      "Epoch 6/50\n",
      "13/13 [==============================] - 28s 2s/step - loss: 0.4212 - accuracy: 0.8053 - val_loss: 0.9622 - val_accuracy: 0.4030\n",
      "Epoch 7/50\n",
      "13/13 [==============================] - 23s 2s/step - loss: 0.4018 - accuracy: 0.8221 - val_loss: 0.8519 - val_accuracy: 0.3881\n",
      "Epoch 8/50\n",
      "13/13 [==============================] - 22s 2s/step - loss: 0.3797 - accuracy: 0.8173 - val_loss: 1.0519 - val_accuracy: 0.5149\n",
      "Epoch 9/50\n",
      "13/13 [==============================] - 23s 2s/step - loss: 0.4928 - accuracy: 0.7500 - val_loss: 0.8537 - val_accuracy: 0.4179\n",
      "Epoch 10/50\n",
      "13/13 [==============================] - 24s 2s/step - loss: 0.4234 - accuracy: 0.8125 - val_loss: 1.0667 - val_accuracy: 0.3955\n",
      "Epoch 11/50\n",
      "13/13 [==============================] - 23s 2s/step - loss: 0.3887 - accuracy: 0.8125 - val_loss: 0.8961 - val_accuracy: 0.4776\n",
      "Epoch 12/50\n",
      "13/13 [==============================] - 22s 2s/step - loss: 0.3524 - accuracy: 0.8534 - val_loss: 0.7516 - val_accuracy: 0.4776\n",
      "Epoch 13/50\n",
      "13/13 [==============================] - 23s 2s/step - loss: 0.3055 - accuracy: 0.8798 - val_loss: 0.6475 - val_accuracy: 0.5970\n",
      "Epoch 14/50\n",
      "13/13 [==============================] - 23s 2s/step - loss: 0.2895 - accuracy: 0.9087 - val_loss: 0.7661 - val_accuracy: 0.5821\n",
      "Epoch 15/50\n",
      "13/13 [==============================] - 22s 2s/step - loss: 0.2838 - accuracy: 0.8894 - val_loss: 0.6681 - val_accuracy: 0.6343\n",
      "Epoch 16/50\n",
      "13/13 [==============================] - 23s 2s/step - loss: 0.2305 - accuracy: 0.9135 - val_loss: 0.5633 - val_accuracy: 0.6866\n",
      "Epoch 17/50\n",
      "13/13 [==============================] - 24s 2s/step - loss: 0.1913 - accuracy: 0.9207 - val_loss: 0.8508 - val_accuracy: 0.6045\n",
      "Epoch 18/50\n",
      "13/13 [==============================] - 24s 2s/step - loss: 0.2519 - accuracy: 0.9062 - val_loss: 0.6510 - val_accuracy: 0.6567\n",
      "Epoch 19/50\n",
      "13/13 [==============================] - 23s 2s/step - loss: 0.2064 - accuracy: 0.9207 - val_loss: 0.4031 - val_accuracy: 0.8358\n",
      "Epoch 20/50\n",
      "13/13 [==============================] - 23s 2s/step - loss: 0.2087 - accuracy: 0.9519 - val_loss: 0.8992 - val_accuracy: 0.6045\n",
      "Epoch 21/50\n",
      "13/13 [==============================] - 23s 2s/step - loss: 0.2496 - accuracy: 0.9111 - val_loss: 0.3767 - val_accuracy: 0.8284\n",
      "Epoch 22/50\n",
      "13/13 [==============================] - 23s 2s/step - loss: 0.1852 - accuracy: 0.9447 - val_loss: 0.4119 - val_accuracy: 0.7985\n",
      "Epoch 23/50\n",
      "13/13 [==============================] - 23s 2s/step - loss: 0.1569 - accuracy: 0.9519 - val_loss: 0.5409 - val_accuracy: 0.7537\n",
      "Epoch 24/50\n",
      "13/13 [==============================] - 22s 2s/step - loss: 0.1212 - accuracy: 0.9663 - val_loss: 0.5301 - val_accuracy: 0.7687\n",
      "Epoch 25/50\n",
      "13/13 [==============================] - 23s 2s/step - loss: 0.1594 - accuracy: 0.9375 - val_loss: 0.5582 - val_accuracy: 0.7687\n",
      "Epoch 26/50\n",
      "13/13 [==============================] - 23s 2s/step - loss: 0.1326 - accuracy: 0.9591 - val_loss: 0.4972 - val_accuracy: 0.7761\n",
      "Epoch 27/50\n",
      "13/13 [==============================] - 24s 2s/step - loss: 0.1214 - accuracy: 0.9591 - val_loss: 0.3449 - val_accuracy: 0.8433\n",
      "Epoch 28/50\n",
      "13/13 [==============================] - 24s 2s/step - loss: 0.0841 - accuracy: 0.9712 - val_loss: 0.2815 - val_accuracy: 0.8731\n",
      "Epoch 29/50\n",
      "13/13 [==============================] - 22s 2s/step - loss: 0.1101 - accuracy: 0.9736 - val_loss: 0.3985 - val_accuracy: 0.8433\n",
      "Epoch 30/50\n",
      "13/13 [==============================] - 23s 2s/step - loss: 0.0963 - accuracy: 0.9760 - val_loss: 0.2602 - val_accuracy: 0.9104\n",
      "Epoch 31/50\n",
      "13/13 [==============================] - 22s 2s/step - loss: 0.1041 - accuracy: 0.9736 - val_loss: 0.2523 - val_accuracy: 0.8731\n",
      "Epoch 32/50\n",
      "13/13 [==============================] - 23s 2s/step - loss: 0.0908 - accuracy: 0.9760 - val_loss: 0.3914 - val_accuracy: 0.8433\n",
      "Epoch 33/50\n",
      "13/13 [==============================] - 22s 2s/step - loss: 0.1126 - accuracy: 0.9615 - val_loss: 0.9079 - val_accuracy: 0.6567\n",
      "Epoch 34/50\n",
      "13/13 [==============================] - 23s 2s/step - loss: 0.2544 - accuracy: 0.8942 - val_loss: 0.5310 - val_accuracy: 0.7612\n",
      "Epoch 35/50\n",
      "13/13 [==============================] - 23s 2s/step - loss: 0.2240 - accuracy: 0.9231 - val_loss: 0.6735 - val_accuracy: 0.7463\n",
      "Epoch 36/50\n",
      "13/13 [==============================] - 23s 2s/step - loss: 0.1370 - accuracy: 0.9663 - val_loss: 0.5992 - val_accuracy: 0.7687\n",
      "Epoch 37/50\n",
      "13/13 [==============================] - 22s 2s/step - loss: 0.1044 - accuracy: 0.9591 - val_loss: 0.3380 - val_accuracy: 0.8657\n",
      "Epoch 38/50\n",
      "13/13 [==============================] - 22s 2s/step - loss: 0.0862 - accuracy: 0.9736 - val_loss: 0.3485 - val_accuracy: 0.8657\n",
      "Epoch 39/50\n",
      "13/13 [==============================] - 22s 2s/step - loss: 0.0720 - accuracy: 0.9784 - val_loss: 0.1997 - val_accuracy: 0.9104\n",
      "Epoch 40/50\n",
      "13/13 [==============================] - 23s 2s/step - loss: 0.0987 - accuracy: 0.9784 - val_loss: 0.3887 - val_accuracy: 0.8582\n",
      "Epoch 41/50\n",
      "13/13 [==============================] - 23s 2s/step - loss: 0.0903 - accuracy: 0.9760 - val_loss: 0.2973 - val_accuracy: 0.8582\n",
      "Epoch 42/50\n",
      "13/13 [==============================] - 22s 2s/step - loss: 0.0668 - accuracy: 0.9856 - val_loss: 0.2839 - val_accuracy: 0.8731\n",
      "Epoch 43/50\n",
      "13/13 [==============================] - 23s 2s/step - loss: 0.0746 - accuracy: 0.9736 - val_loss: 0.4624 - val_accuracy: 0.8433\n",
      "Epoch 44/50\n",
      "13/13 [==============================] - 23s 2s/step - loss: 0.0876 - accuracy: 0.9760 - val_loss: 0.4306 - val_accuracy: 0.8582\n",
      "Epoch 45/50\n",
      "13/13 [==============================] - 23s 2s/step - loss: 0.0727 - accuracy: 0.9784 - val_loss: 0.5577 - val_accuracy: 0.8209\n",
      "Epoch 46/50\n",
      "13/13 [==============================] - 23s 2s/step - loss: 0.1037 - accuracy: 0.9663 - val_loss: 0.2495 - val_accuracy: 0.8806\n",
      "Epoch 47/50\n",
      "13/13 [==============================] - 22s 2s/step - loss: 0.0868 - accuracy: 0.9808 - val_loss: 0.3081 - val_accuracy: 0.8657\n",
      "Epoch 48/50\n",
      "13/13 [==============================] - 23s 2s/step - loss: 0.0641 - accuracy: 0.9832 - val_loss: 0.4478 - val_accuracy: 0.8507\n",
      "Epoch 49/50\n",
      "13/13 [==============================] - 23s 2s/step - loss: 0.0720 - accuracy: 0.9760 - val_loss: 0.3949 - val_accuracy: 0.8507\n",
      "Epoch 50/50\n",
      "13/13 [==============================] - 22s 2s/step - loss: 0.1058 - accuracy: 0.9688 - val_loss: 0.5983 - val_accuracy: 0.7910\n"
     ]
    }
   ],
   "source": [
    "# fit the model\n",
    "# Run the cell. It will take some time to execute\n",
    "r = model.fit_generator(\n",
    "  training_set,\n",
    "  validation_data=test_set,\n",
    "  epochs=50,\n",
    "  steps_per_epoch=len(training_set),\n",
    "  validation_steps=len(test_set)\n",
    ")"
   ]
  },
  {
   "cell_type": "code",
   "execution_count": 27,
   "metadata": {},
   "outputs": [
    {
     "data": {
      "image/png": "[encoded data removed]",
      "text/plain": [
       "<Figure size 432x288 with 1 Axes>"
      ]
     },
     "metadata": {
      "needs_background": "light"
     },
     "output_type": "display_data"
    },
    {
     "data": {
      "image/png": "[encoded data removed]",
      "text/plain": [
       "<Figure size 432x288 with 1 Axes>"
      ]
     },
     "metadata": {
      "needs_background": "light"
     },
     "output_type": "display_data"
    },
    {
     "data": {
      "text/plain": [
       "<Figure size 432x288 with 0 Axes>"
      ]
     },
     "metadata": {},
     "output_type": "display_data"
    }
   ],
   "source": [
    "# plot the loss\n",
    "plt.plot(r.history['loss'], label='train loss')\n",
    "plt.plot(r.history['val_loss'], label='val loss')\n",
    "plt.legend()\n",
    "plt.show()\n",
    "plt.savefig('LossVal_loss')\n",
    "\n",
    "# plot the accuracy\n",
    "plt.plot(r.history['accuracy'], label='train acc')\n",
    "plt.plot(r.history['val_accuracy'], label='val acc')\n",
    "plt.legend()\n",
    "plt.show()\n",
    "plt.savefig('AccVal_acc')"
   ]
  },
  {
   "cell_type": "code",
   "execution_count": 28,
   "metadata": {},
   "outputs": [],
   "source": [
    "# save it as a h5 file\n",
    "\n",
    "\n",
    "from tensorflow.keras.models import load_model\n",
    "\n",
    "model.save('model_vgg19.h5')"
   ]
  },
  {
   "cell_type": "code",
   "execution_count": 29,
   "metadata": {},
   "outputs": [],
   "source": [
    "y_pred = model.predict(test_set)"
   ]
  },
  {
   "cell_type": "code",
   "execution_count": 30,
   "metadata": {},
   "outputs": [
    {
     "data": {
      "text/plain": [
       "array([[9.99025941e-01, 9.74109338e-04],\n",
       "       [8.68373871e-01, 1.31626099e-01],\n",
       "       [9.99279678e-01, 7.20319280e-04],\n",
       "       [1.00000000e+00, 9.82020687e-09],\n",
       "       [1.64404474e-02, 9.83559549e-01],\n",
       "       [1.40803978e-02, 9.85919595e-01],\n",
       "       [9.99947667e-01, 5.22971350e-05],\n",
       "       [9.99999881e-01, 1.07374220e-07],\n",
       "       [6.50297180e-02, 9.34970319e-01],\n",
       "       [6.37169331e-02, 9.36283112e-01],\n",
       "       [9.97898221e-01, 2.10171309e-03],\n",
       "       [8.81026208e-01, 1.18973821e-01],\n",
       "       [5.20992279e-01, 4.79007691e-01],\n",
       "       [1.09895490e-01, 8.90104473e-01],\n",
       "       [1.00000000e+00, 1.52242628e-11],\n",
       "       [9.87175666e-03, 9.90128219e-01],\n",
       "       [9.99999881e-01, 7.05255374e-08],\n",
       "       [9.99491215e-01, 5.08782978e-04],\n",
       "       [9.99999881e-01, 8.02687907e-08],\n",
       "       [6.08298481e-01, 3.91701549e-01],\n",
       "       [1.02818310e-02, 9.89718199e-01],\n",
       "       [4.24302705e-02, 9.57569778e-01],\n",
       "       [3.50719243e-02, 9.64928091e-01],\n",
       "       [1.14288125e-02, 9.88571227e-01],\n",
       "       [9.99998689e-01, 1.36887741e-06],\n",
       "       [8.48065794e-01, 1.51934221e-01],\n",
       "       [9.38579202e-01, 6.14207983e-02],\n",
       "       [9.35472965e-01, 6.45270422e-02],\n",
       "       [1.05879875e-02, 9.89412010e-01],\n",
       "       [1.87030375e-01, 8.12969565e-01],\n",
       "       [9.99999762e-01, 2.87227209e-07],\n",
       "       [9.54964291e-03, 9.90450323e-01],\n",
       "       [3.53563540e-02, 9.64643657e-01],\n",
       "       [8.80201280e-01, 1.19798653e-01],\n",
       "       [9.85510230e-01, 1.44897504e-02],\n",
       "       [2.79325936e-02, 9.72067356e-01],\n",
       "       [5.86844206e-01, 4.13155854e-01],\n",
       "       [7.91448448e-03, 9.92085516e-01],\n",
       "       [1.55722247e-02, 9.84427750e-01],\n",
       "       [2.47924495e-02, 9.75207627e-01],\n",
       "       [6.61672745e-03, 9.93383229e-01],\n",
       "       [1.93417389e-02, 9.80658293e-01],\n",
       "       [9.79565829e-03, 9.90204334e-01],\n",
       "       [4.88617778e-01, 5.11382222e-01],\n",
       "       [2.62821615e-01, 7.37178385e-01],\n",
       "       [9.97980297e-01, 2.01970572e-03],\n",
       "       [1.90075301e-02, 9.80992496e-01],\n",
       "       [1.33700669e-02, 9.86629963e-01],\n",
       "       [3.07621378e-02, 9.69237804e-01],\n",
       "       [9.99968648e-01, 3.13580131e-05],\n",
       "       [9.98809338e-01, 1.19068660e-03],\n",
       "       [9.99795496e-01, 2.04462267e-04],\n",
       "       [3.41100805e-03, 9.96588945e-01],\n",
       "       [9.98918176e-01, 1.08181057e-03],\n",
       "       [2.12071408e-02, 9.78792846e-01],\n",
       "       [9.99998689e-01, 1.28860290e-06],\n",
       "       [8.77887011e-01, 1.22112960e-01],\n",
       "       [7.19464989e-03, 9.92805421e-01],\n",
       "       [1.21618798e-02, 9.87838149e-01],\n",
       "       [3.13294455e-02, 9.68670607e-01],\n",
       "       [3.61227900e-01, 6.38772070e-01],\n",
       "       [9.50573850e-03, 9.90494311e-01],\n",
       "       [2.82828987e-01, 7.17171013e-01],\n",
       "       [9.95834470e-01, 4.16546455e-03],\n",
       "       [1.49340956e-02, 9.85065877e-01],\n",
       "       [9.83954787e-01, 1.60452891e-02],\n",
       "       [2.05715629e-03, 9.97942865e-01],\n",
       "       [7.58818150e-01, 2.41181865e-01],\n",
       "       [9.99886870e-01, 1.13136921e-04],\n",
       "       [9.93178606e-01, 6.82141865e-03],\n",
       "       [1.02588329e-02, 9.89741206e-01],\n",
       "       [8.51222035e-03, 9.91487741e-01],\n",
       "       [9.80020523e-01, 1.99795309e-02],\n",
       "       [9.99580443e-01, 4.19531920e-04],\n",
       "       [3.47563587e-02, 9.65243638e-01],\n",
       "       [9.99745905e-01, 2.54036713e-04],\n",
       "       [1.94477662e-02, 9.80552256e-01],\n",
       "       [9.85514283e-01, 1.44857066e-02],\n",
       "       [4.32016933e-03, 9.95679855e-01],\n",
       "       [7.62131112e-03, 9.92378712e-01],\n",
       "       [9.98769462e-01, 1.23049004e-03],\n",
       "       [4.68648583e-01, 5.31351388e-01],\n",
       "       [1.00000000e+00, 1.04666436e-08],\n",
       "       [4.33889739e-02, 9.56610978e-01],\n",
       "       [9.99999881e-01, 1.34013533e-07],\n",
       "       [2.68727466e-02, 9.73127246e-01],\n",
       "       [1.17774429e-02, 9.88222539e-01],\n",
       "       [4.66516525e-01, 5.33483505e-01],\n",
       "       [7.84190744e-02, 9.21580911e-01],\n",
       "       [9.99617219e-01, 3.82728933e-04],\n",
       "       [1.00000000e+00, 4.91768315e-09],\n",
       "       [9.17728692e-02, 9.08227086e-01],\n",
       "       [1.00000000e+00, 2.41440067e-14],\n",
       "       [2.97619663e-02, 9.70238030e-01],\n",
       "       [1.47377700e-01, 8.52622271e-01],\n",
       "       [4.60409448e-02, 9.53958988e-01],\n",
       "       [9.50087309e-01, 4.99126688e-02],\n",
       "       [1.20699108e-02, 9.87930059e-01],\n",
       "       [8.82312953e-01, 1.17687054e-01],\n",
       "       [6.05831623e-01, 3.94168407e-01],\n",
       "       [9.99357283e-01, 6.42663392e-04],\n",
       "       [9.82108712e-01, 1.78912599e-02],\n",
       "       [8.68363738e-01, 1.31636292e-01],\n",
       "       [9.99999881e-01, 7.09593380e-08],\n",
       "       [9.25258875e-01, 7.47411698e-02],\n",
       "       [9.55021262e-01, 4.49786857e-02],\n",
       "       [9.99894142e-01, 1.05807143e-04],\n",
       "       [4.73054886e-01, 5.26945114e-01],\n",
       "       [3.54782760e-01, 6.45217299e-01],\n",
       "       [9.94710803e-01, 5.28921559e-03],\n",
       "       [1.45222656e-02, 9.85477686e-01],\n",
       "       [9.98672009e-01, 1.32803689e-03],\n",
       "       [1.51142254e-01, 8.48857701e-01],\n",
       "       [1.54044852e-01, 8.45955133e-01],\n",
       "       [2.86118276e-02, 9.71388161e-01],\n",
       "       [9.99551356e-01, 4.48617182e-04],\n",
       "       [2.85418821e-03, 9.97145832e-01],\n",
       "       [9.99956727e-01, 4.32213274e-05],\n",
       "       [5.59932180e-02, 9.44006801e-01],\n",
       "       [6.65150210e-02, 9.33484972e-01],\n",
       "       [8.41796026e-03, 9.91582096e-01],\n",
       "       [9.93356526e-01, 6.64341217e-03],\n",
       "       [2.80313566e-02, 9.71968591e-01],\n",
       "       [9.99428093e-01, 5.71922050e-04],\n",
       "       [9.58764255e-01, 4.12358195e-02],\n",
       "       [3.67846363e-03, 9.96321559e-01],\n",
       "       [9.99990702e-01, 9.35350545e-06],\n",
       "       [2.36335453e-02, 9.76366520e-01],\n",
       "       [6.78543793e-03, 9.93214607e-01],\n",
       "       [1.88962335e-03, 9.98110414e-01],\n",
       "       [6.30343258e-02, 9.36965704e-01],\n",
       "       [2.03454476e-02, 9.79654610e-01],\n",
       "       [9.99662519e-01, 3.37440462e-04],\n",
       "       [5.93561679e-03, 9.94064391e-01]], dtype=float32)"
      ]
     },
     "execution_count": 30,
     "metadata": {},
     "output_type": "execute_result"
    }
   ],
   "source": [
    "y_pred"
   ]
  },
  {
   "cell_type": "code",
   "execution_count": 31,
   "metadata": {},
   "outputs": [],
   "source": [
    "import numpy as np\n",
    "y_pred = np.argmax(y_pred, axis=1)"
   ]
  },
  {
   "cell_type": "code",
   "execution_count": 32,
   "metadata": {},
   "outputs": [
    {
     "data": {
      "text/plain": [
       "array([0, 0, 0, 0, 1, 1, 0, 0, 1, 1, 0, 0, 0, 1, 0, 1, 0, 0, 0, 0, 1, 1,\n",
       "       1, 1, 0, 0, 0, 0, 1, 1, 0, 1, 1, 0, 0, 1, 0, 1, 1, 1, 1, 1, 1, 1,\n",
       "       1, 0, 1, 1, 1, 0, 0, 0, 1, 0, 1, 0, 0, 1, 1, 1, 1, 1, 1, 0, 1, 0,\n",
       "       1, 0, 0, 0, 1, 1, 0, 0, 1, 0, 1, 0, 1, 1, 0, 1, 0, 1, 0, 1, 1, 1,\n",
       "       1, 0, 0, 1, 0, 1, 1, 1, 0, 1, 0, 0, 0, 0, 0, 0, 0, 0, 0, 1, 1, 0,\n",
       "       1, 0, 1, 1, 1, 0, 1, 0, 1, 1, 1, 0, 1, 0, 0, 1, 0, 1, 1, 1, 1, 1,\n",
       "       0, 1], dtype=int64)"
      ]
     },
     "execution_count": 32,
     "metadata": {},
     "output_type": "execute_result"
    }
   ],
   "source": [
    "y_pred\n"
   ]
  },
  {
   "cell_type": "code",
   "execution_count": 33,
   "metadata": {},
   "outputs": [],
   "source": [
    "from tensorflow.keras.models import load_model\n",
    "from tensorflow.keras.preprocessing import image"
   ]
  },
  {
   "cell_type": "code",
   "execution_count": 34,
   "metadata": {},
   "outputs": [],
   "source": [
    "model=load_model('model_vgg19.h5')\n"
   ]
  },
  {
   "cell_type": "code",
   "execution_count": 44,
   "metadata": {},
   "outputs": [],
   "source": [
    "img=image.load_img('Desktop/data/test/Uninfected/2.png',target_size=(224,224))\n"
   ]
  },
  {
   "cell_type": "code",
   "execution_count": 45,
   "metadata": {},
   "outputs": [
    {
     "data": {
      "text/plain": [
       "array([[[0., 0., 0.],\n",
       "        [0., 0., 0.],\n",
       "        [0., 0., 0.],\n",
       "        ...,\n",
       "        [0., 0., 0.],\n",
       "        [0., 0., 0.],\n",
       "        [0., 0., 0.]],\n",
       "\n",
       "       [[0., 0., 0.],\n",
       "        [0., 0., 0.],\n",
       "        [0., 0., 0.],\n",
       "        ...,\n",
       "        [0., 0., 0.],\n",
       "        [0., 0., 0.],\n",
       "        [0., 0., 0.]],\n",
       "\n",
       "       [[0., 0., 0.],\n",
       "        [0., 0., 0.],\n",
       "        [0., 0., 0.],\n",
       "        ...,\n",
       "        [0., 0., 0.],\n",
       "        [0., 0., 0.],\n",
       "        [0., 0., 0.]],\n",
       "\n",
       "       ...,\n",
       "\n",
       "       [[0., 0., 0.],\n",
       "        [0., 0., 0.],\n",
       "        [0., 0., 0.],\n",
       "        ...,\n",
       "        [0., 0., 0.],\n",
       "        [0., 0., 0.],\n",
       "        [0., 0., 0.]],\n",
       "\n",
       "       [[0., 0., 0.],\n",
       "        [0., 0., 0.],\n",
       "        [0., 0., 0.],\n",
       "        ...,\n",
       "        [0., 0., 0.],\n",
       "        [0., 0., 0.],\n",
       "        [0., 0., 0.]],\n",
       "\n",
       "       [[0., 0., 0.],\n",
       "        [0., 0., 0.],\n",
       "        [0., 0., 0.],\n",
       "        ...,\n",
       "        [0., 0., 0.],\n",
       "        [0., 0., 0.],\n",
       "        [0., 0., 0.]]], dtype=float32)"
      ]
     },
     "execution_count": 45,
     "metadata": {},
     "output_type": "execute_result"
    }
   ],
   "source": [
    "x=image.img_to_array(img)\n",
    "x"
   ]
  },
  {
   "cell_type": "code",
   "execution_count": 46,
   "metadata": {},
   "outputs": [
    {
     "data": {
      "text/plain": [
       "(224, 224, 3)"
      ]
     },
     "execution_count": 46,
     "metadata": {},
     "output_type": "execute_result"
    }
   ],
   "source": [
    "x.shape"
   ]
  },
  {
   "cell_type": "code",
   "execution_count": 47,
   "metadata": {},
   "outputs": [],
   "source": [
    "x=x/255"
   ]
  },
  {
   "cell_type": "code",
   "execution_count": 48,
   "metadata": {},
   "outputs": [
    {
     "data": {
      "text/plain": [
       "(1, 224, 224, 3)"
      ]
     },
     "execution_count": 48,
     "metadata": {},
     "output_type": "execute_result"
    }
   ],
   "source": [
    "x=np.expand_dims(x,axis=0)\n",
    "img_data=preprocess_input(x)\n",
    "img_data.shape"
   ]
  },
  {
   "cell_type": "code",
   "execution_count": 49,
   "metadata": {},
   "outputs": [
    {
     "data": {
      "text/plain": [
       "array([[1., 0.]], dtype=float32)"
      ]
     },
     "execution_count": 49,
     "metadata": {},
     "output_type": "execute_result"
    }
   ],
   "source": [
    "model.predict(img_data)"
   ]
  },
  {
   "cell_type": "code",
   "execution_count": 50,
   "metadata": {},
   "outputs": [],
   "source": [
    "a=np.argmax(model.predict(img_data), axis=1)"
   ]
  },
  {
   "cell_type": "code",
   "execution_count": 51,
   "metadata": {},
   "outputs": [
    {
     "name": "stdout",
     "output_type": "stream",
     "text": [
      "Infected\n"
     ]
    }
   ],
   "source": [
    "if(a==1):\n",
    "    print(\"Uninfected\")\n",
    "else:\n",
    "    print(\"Infected\")"
   ]
  },
  {
   "cell_type": "code",
   "execution_count": 52,
   "metadata": {},
   "outputs": [],
   "source": [
    "img=image.load_img('Desktop/data/test/Parasite/C39P4thinF_original_IMG_20150622_105803_cell_93.png',target_size=(224,224))"
   ]
  },
  {
   "cell_type": "code",
   "execution_count": 53,
   "metadata": {},
   "outputs": [
    {
     "data": {
      "text/plain": [
       "array([[[0., 0., 0.],\n",
       "        [0., 0., 0.],\n",
       "        [0., 0., 0.],\n",
       "        ...,\n",
       "        [0., 0., 0.],\n",
       "        [0., 0., 0.],\n",
       "        [0., 0., 0.]],\n",
       "\n",
       "       [[0., 0., 0.],\n",
       "        [0., 0., 0.],\n",
       "        [0., 0., 0.],\n",
       "        ...,\n",
       "        [0., 0., 0.],\n",
       "        [0., 0., 0.],\n",
       "        [0., 0., 0.]],\n",
       "\n",
       "       [[0., 0., 0.],\n",
       "        [0., 0., 0.],\n",
       "        [0., 0., 0.],\n",
       "        ...,\n",
       "        [0., 0., 0.],\n",
       "        [0., 0., 0.],\n",
       "        [0., 0., 0.]],\n",
       "\n",
       "       ...,\n",
       "\n",
       "       [[0., 0., 0.],\n",
       "        [0., 0., 0.],\n",
       "        [0., 0., 0.],\n",
       "        ...,\n",
       "        [0., 0., 0.],\n",
       "        [0., 0., 0.],\n",
       "        [0., 0., 0.]],\n",
       "\n",
       "       [[0., 0., 0.],\n",
       "        [0., 0., 0.],\n",
       "        [0., 0., 0.],\n",
       "        ...,\n",
       "        [0., 0., 0.],\n",
       "        [0., 0., 0.],\n",
       "        [0., 0., 0.]],\n",
       "\n",
       "       [[0., 0., 0.],\n",
       "        [0., 0., 0.],\n",
       "        [0., 0., 0.],\n",
       "        ...,\n",
       "        [0., 0., 0.],\n",
       "        [0., 0., 0.],\n",
       "        [0., 0., 0.]]], dtype=float32)"
      ]
     },
     "execution_count": 53,
     "metadata": {},
     "output_type": "execute_result"
    }
   ],
   "source": [
    "x=image.img_to_array(img)\n",
    "x"
   ]
  },
  {
   "cell_type": "code",
   "execution_count": 54,
   "metadata": {},
   "outputs": [
    {
     "data": {
      "text/plain": [
       "(224, 224, 3)"
      ]
     },
     "execution_count": 54,
     "metadata": {},
     "output_type": "execute_result"
    }
   ],
   "source": [
    "x.shape"
   ]
  },
  {
   "cell_type": "code",
   "execution_count": 55,
   "metadata": {},
   "outputs": [
    {
     "data": {
      "text/plain": [
       "(1, 224, 224, 3)"
      ]
     },
     "execution_count": 55,
     "metadata": {},
     "output_type": "execute_result"
    }
   ],
   "source": [
    "x=x/255\n",
    "x=np.expand_dims(x,axis=0)\n",
    "img_data=preprocess_input(x)\n",
    "img_data.shape"
   ]
  },
  {
   "cell_type": "code",
   "execution_count": 56,
   "metadata": {},
   "outputs": [
    {
     "data": {
      "text/plain": [
       "array([[1., 0.]], dtype=float32)"
      ]
     },
     "execution_count": 56,
     "metadata": {},
     "output_type": "execute_result"
    }
   ],
   "source": [
    "model.predict(img_data)"
   ]
  },
  {
   "cell_type": "code",
   "execution_count": null,
   "metadata": {},
   "outputs": [],
   "source": []
  }
 ],
 "metadata": {
  "kernelspec": {
   "display_name": "Python 3",
   "language": "python",
   "name": "python3"
  },
  "language_info": {
   "codemirror_mode": {
    "name": "ipython",
    "version": 3
   },
   "file_extension": ".py",
   "mimetype": "text/x-python",
   "name": "python",
   "nbconvert_exporter": "python",
   "pygments_lexer": "ipython3",
   "version": "3.8.5"
  }
 },
 "nbformat": 4,
 "nbformat_minor": 4
}
